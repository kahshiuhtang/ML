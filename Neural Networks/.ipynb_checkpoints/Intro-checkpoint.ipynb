{
 "cells": [
  {
   "cell_type": "markdown",
   "id": "ef2e0110",
   "metadata": {},
   "source": [
    "#### Deep Learning\n",
    "* Useless for much of history, not much known about it\n",
    "* Represents human learning\n",
    "    * Takes input and does something with the data\n",
    "    * Each input is weighted, added together and either fires or doesn't fire a neuron\n",
    "        * Will fire if it passes a threshold function\n",
    "        * S-Shape activation function\n",
    "    * Deep Neural Network: Neural Network with at least 2 layers\n",
    "        * Need Crazy Sample (500 million)\n",
    "        * A lot of optimization problems to solve, computation\n",
    "* Are not really good at modeling logic"
   ]
  },
  {
   "cell_type": "code",
   "execution_count": null,
   "id": "0fcbff82",
   "metadata": {},
   "outputs": [],
   "source": [
    "# TENSORFLOW\n",
    "# Usually write all the code at once, TF does some things and comes back with answer\n",
    "    # Python is very slow, line by line, retrieving and sending of data\n",
    "# Tensor: multiple dimensional vectors\n",
    "# More like numpy than scikit learn\n",
    "\n",
    "import tensorflow as tf\n",
    "\n",
    "x1 = tf.constant(5)\n",
    "x2 = tf.constant(6)\n",
    "\n",
    "result = tf.mul(x1, x2)\n",
    "\n",
    "with tf.Session() as sess:\n",
    "    output = sess.run(result)\n",
    "    print(output)"
   ]
  },
  {
   "cell_type": "code",
   "execution_count": null,
   "id": "4d77234a",
   "metadata": {},
   "outputs": [],
   "source": []
  }
 ],
 "metadata": {
  "kernelspec": {
   "display_name": "Python 3 (ipykernel)",
   "language": "python",
   "name": "python3"
  },
  "language_info": {
   "codemirror_mode": {
    "name": "ipython",
    "version": 3
   },
   "file_extension": ".py",
   "mimetype": "text/x-python",
   "name": "python",
   "nbconvert_exporter": "python",
   "pygments_lexer": "ipython3",
   "version": "3.10.8"
  }
 },
 "nbformat": 4,
 "nbformat_minor": 5
}
