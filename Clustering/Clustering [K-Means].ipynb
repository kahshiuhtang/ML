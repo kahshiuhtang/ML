{
 "cells": [
  {
   "cell_type": "markdown",
   "id": "4a3ad688",
   "metadata": {},
   "source": [
    "##### Clustering:\n",
    "* Unsupervised Learning\n",
    "    * Don't tell the machine which classes there are\n",
    "    * Flat vs. Hierarchal (Set amount of classes, computer figures out)\n",
    "    * K-Means\n",
    "        * K, how many clusters there are\n",
    "        * Take K random members of the fetature set, classify by choosing which one is closet\n",
    "            * These act as centroids\n",
    "        * Then find the mean the find a new centroid\n",
    "        * Recluster until the centroid does not move at all\n",
    "        * Some maxiterations and tolerance value\n",
    "        * Downsides: wants to cluster in equal groups\n",
    "            * Ex: Mouse Data Set\n",
    "    * Mean Shift\n",
    "        * Computer finds out by itself the number of classes there are\n",
    "    * More for research and finding patterns"
   ]
  },
  {
   "cell_type": "code",
   "execution_count": 4,
   "id": "d8be8982",
   "metadata": {},
   "outputs": [],
   "source": [
    "import matplotlib.pyplot as plt\n",
    "from matplotlib import style\n",
    "style.use('ggplot')\n",
    "import numpy as np\n",
    "from sklearn.cluster import KMeans"
   ]
  },
  {
   "cell_type": "code",
   "execution_count": 7,
   "id": "794d2a0d",
   "metadata": {},
   "outputs": [
    {
     "data": {
      "image/png": "[encoded data removed]",
      "text/plain": [
       "<Figure size 640x480 with 1 Axes>"
      ]
     },
     "metadata": {},
     "output_type": "display_data"
    }
   ],
   "source": [
    "X = np.array([[1,2],[1.5,1.8],[5,8],[8,8],[1,0.6],[9,11]])\n",
    "plt.scatter(x=X[:,0], y=X[:,1], s= 150, linewidths = 5)\n",
    "plt.show()"
   ]
  },
  {
   "cell_type": "code",
   "execution_count": 13,
   "id": "fcec5e7f",
   "metadata": {},
   "outputs": [
    {
     "data": {
      "text/plain": [
       "<matplotlib.collections.PathCollection at 0x7ff5382c45e0>"
      ]
     },
     "execution_count": 13,
     "metadata": {},
     "output_type": "execute_result"
    },
    {
     "data": {
      "image/png": "[encoded data removed]",
      "text/plain": [
       "<Figure size 640x480 with 1 Axes>"
      ]
     },
     "metadata": {},
     "output_type": "display_data"
    }
   ],
   "source": [
    "#Having the same amount of n_clusters and samples would just assign a cluster for each sample\n",
    "clf = KMeans(n_clusters=2)\n",
    "clf.fit(X)\n",
    "\n",
    "centroids = clf.cluster_centers_\n",
    "labels = clf.labels_\n",
    "\n",
    "colors = [\"g.\", \"r.\", \"c.\", \"b.\", \"k.\", \"o.\"]\n",
    "for i in range(len(X)):\n",
    "    plt.plot(X[i][0], X[i][1], colors[labels[i]], markersize=10)\n",
    "    \n",
    "plt.scatter(centroids[:,0], centroids[:,1], s=100, linewidths = 5)"
   ]
  },
  {
   "cell_type": "code",
   "execution_count": 31,
   "id": "a86409d9",
   "metadata": {},
   "outputs": [],
   "source": [
    "# K MEANS Titanic\n",
    "\n",
    "from sklearn import preprocessing, model_selection\n",
    "import pandas as pd\n",
    "\n",
    "df = pd.read_excel('titanic.xls')"
   ]
  },
  {
   "cell_type": "code",
   "execution_count": 15,
   "id": "1eccb9ed",
   "metadata": {},
   "outputs": [
    {
     "name": "stdout",
     "output_type": "stream",
     "text": [
      "   pclass  survived                                             name     sex  \\\n",
      "0       1         1                    Allen, Miss. Elisabeth Walton  female   \n",
      "1       1         1                   Allison, Master. Hudson Trevor    male   \n",
      "2       1         0                     Allison, Miss. Helen Loraine  female   \n",
      "3       1         0             Allison, Mr. Hudson Joshua Creighton    male   \n",
      "4       1         0  Allison, Mrs. Hudson J C (Bessie Waldo Daniels)  female   \n",
      "\n",
      "       age  sibsp  parch  ticket      fare    cabin embarked boat   body  \\\n",
      "0  29.0000      0      0   24160  211.3375       B5        S    2    NaN   \n",
      "1   0.9167      1      2  113781  151.5500  C22 C26        S   11    NaN   \n",
      "2   2.0000      1      2  113781  151.5500  C22 C26        S  NaN    NaN   \n",
      "3  30.0000      1      2  113781  151.5500  C22 C26        S  NaN  135.0   \n",
      "4  25.0000      1      2  113781  151.5500  C22 C26        S  NaN    NaN   \n",
      "\n",
      "                         home.dest  \n",
      "0                     St Louis, MO  \n",
      "1  Montreal, PQ / Chesterville, ON  \n",
      "2  Montreal, PQ / Chesterville, ON  \n",
      "3  Montreal, PQ / Chesterville, ON  \n",
      "4  Montreal, PQ / Chesterville, ON  \n"
     ]
    }
   ],
   "source": [
    "print(df.head())"
   ]
  },
  {
   "cell_type": "markdown",
   "id": "d4176001",
   "metadata": {},
   "source": [
    "* What should you do with nonnumerical data?\n",
    "    * Take a set of the column's values\n",
    "    * Assign a number value to the set\n",
    "    * How should you translate?\n",
    "* How to fill in these gaps?"
   ]
  },
  {
   "cell_type": "code",
   "execution_count": 32,
   "id": "b75d2c72",
   "metadata": {},
   "outputs": [],
   "source": [
    "#FLAT CLUSTERING WITH K MEANS\n",
    "df.drop(['body', 'name'], axis=1, inplace=True)\n",
    "#df.convert_objects(convert_numeric=True)\n",
    "df.fillna(0, inplace=True)"
   ]
  },
  {
   "cell_type": "code",
   "execution_count": 33,
   "id": "c42a4ce5",
   "metadata": {},
   "outputs": [],
   "source": [
    "def handle_non_numerical_data(df):\n",
    "    columns = df.columns.values #Taking nonnumerical columns\n",
    "    \n",
    "    for column in columns:\n",
    "        text_digit_vals = {} #Set\n",
    "        def convert_to_int(val): #Adds value to the set\n",
    "            return text_digit_vals[val]\n",
    "        if df[column].dtype != np.int64 and df[column].dtype !=np.float64: #If value is not numeric\n",
    "            column_contents = df[column].values.tolist() #Turn the column into a list and then set\n",
    "            unique_elements = set(column_contents)\n",
    "            x = 0\n",
    "            for unique in unique_elements: #For every element in this new set\n",
    "                if unique not in text_digit_vals: #Create unique identifier\n",
    "                    text_digit_vals[unique] = x\n",
    "                    x = x + 1\n",
    "                    \n",
    "            df[column] = list(map(convert_to_int, df[column])) #Fix the column\n",
    "    return df"
   ]
  },
  {
   "cell_type": "code",
   "execution_count": 34,
   "id": "19d17de1",
   "metadata": {},
   "outputs": [],
   "source": [
    "df = handle_non_numerical_data(df)"
   ]
  },
  {
   "cell_type": "code",
   "execution_count": 35,
   "id": "c331ea76",
   "metadata": {},
   "outputs": [
    {
     "name": "stdout",
     "output_type": "stream",
     "text": [
      "   pclass  survived  sex      age  sibsp  parch  ticket      fare  cabin  \\\n",
      "0       1         1    0  29.0000      0      0     737  211.3375    131   \n",
      "1       1         1    1   0.9167      1      2     489  151.5500      1   \n",
      "2       1         0    0   2.0000      1      2     489  151.5500      1   \n",
      "3       1         0    1  30.0000      1      2     489  151.5500      1   \n",
      "4       1         0    0  25.0000      1      2     489  151.5500      1   \n",
      "\n",
      "   embarked  boat  home.dest  \n",
      "0         2     1         70  \n",
      "1         2    14        320  \n",
      "2         2     0        320  \n",
      "3         2     0        320  \n",
      "4         2     0        320  \n"
     ]
    }
   ],
   "source": [
    "print(df.head())"
   ]
  },
  {
   "cell_type": "code",
   "execution_count": 43,
   "id": "e9c452d4",
   "metadata": {},
   "outputs": [
    {
     "name": "stderr",
     "output_type": "stream",
     "text": [
      "/var/folders/pw/0cjrcmjj58q0s780404b1jdc0000gn/T/ipykernel_48423/2524685872.py:5: FutureWarning: In a future version of pandas all arguments of DataFrame.drop except for the argument 'labels' will be keyword-only.\n",
      "  X = np.array(df.drop(['survived'], 1).astype(float))\n"
     ]
    },
    {
     "name": "stdout",
     "output_type": "stream",
     "text": [
      "0.24980901451489687\n"
     ]
    }
   ],
   "source": [
    "#Could predict, probably use SVM\n",
    "#df.drop(['ticket'], axis=1, inplace=True)\n",
    "#df.drop(['sibsp', 'cabin', 'embarked', 'home.dest'], axis=1, inplace=True)\n",
    "#df.drop(['parch'], axis=1, inplace=True)\n",
    "X = np.array(df.drop(['survived'], 1).astype(float))\n",
    "X = preprocessing.scale(X)\n",
    "y = np.array(df['survived'])\n",
    "\n",
    "clf = KMeans(n_clusters=2)\n",
    "clf.fit(X)\n",
    "\n",
    "correct = 0\n",
    "for i  in range(len(X)):\n",
    "    predict_me = np.array(X[i].astype(float)) #Centroid in accuracy is arbitarily chosen\n",
    "    predict_me = predict_me.reshape(-1, len(predict_me))\n",
    "    prediction = clf.predict(predict_me)\n",
    "    if prediction[0] == y[i]:\n",
    "        correct+= 1\n",
    "print(correct/len(X))\n"
   ]
  },
  {
   "cell_type": "markdown",
   "id": "054dc56f",
   "metadata": {},
   "source": [
    "Our Own Method of K Means"
   ]
  },
  {
   "cell_type": "code",
   "execution_count": 44,
   "id": "1564ca79",
   "metadata": {},
   "outputs": [
    {
     "data": {
      "image/png": "[encoded data removed]",
      "text/plain": [
       "<Figure size 640x480 with 1 Axes>"
      ]
     },
     "metadata": {},
     "output_type": "display_data"
    }
   ],
   "source": [
    "X = np.array([[1,2],[1.5,1.8],[5,8],[8,8],[1,0.6],[9,11]])\n",
    "plt.scatter(x=X[:,0], y=X[:,1], s= 150, linewidths = 5)\n",
    "plt.show()"
   ]
  },
  {
   "cell_type": "code",
   "execution_count": 57,
   "id": "4335dbeb",
   "metadata": {},
   "outputs": [
    {
     "data": {
      "image/png": "[encoded data removed]",
      "text/plain": [
       "<Figure size 640x480 with 1 Axes>"
      ]
     },
     "metadata": {},
     "output_type": "display_data"
    }
   ],
   "source": [
    "class K_Means:\n",
    "    #Usually will find centroid after 10-ish iterations\n",
    "    def __init__(self, k=2, tol=0.001, max_iter=300):\n",
    "        self.k = k\n",
    "        self.tol = tol\n",
    "        self.max_iter = max_iter\n",
    "    # Can train and test on same data, not effect\n",
    "    def fit(self, data):\n",
    "        self.centroids = {}\n",
    "        for i in range(self.k):\n",
    "            self.centroids[i] = data[i]\n",
    "            \n",
    "        for i in range(self.max_iter):\n",
    "            self.classifications = {}\n",
    "            for i in range(self.k):\n",
    "                self.classifications[i] = []\n",
    "                \n",
    "            for featureset in data: #List of distances from points to each centroid\n",
    "                distances = [np.linalg.norm(featureset - self.centroids[centroid]) for centroid in self.centroids]\n",
    "                classification = distances.index(min(distances))\n",
    "                self.classifications[classification].append(featureset)\n",
    "            \n",
    "            prev_centroids = dict(self.centroids)\n",
    "            \n",
    "            for classification in self.classifications:\n",
    "                #pass\n",
    "                self.centroids[classification] = np.average(self.classifications[classification], axis=0)\n",
    "            optimized = True\n",
    "            for c in self.centroids:\n",
    "                original_centroid = prev_centroids[c]\n",
    "                current_centroid = self.centroids[c]\n",
    "                if np.sum((current_centroid -original_centroid) / original_centroid * 100) > self.tol:\n",
    "                    optimized = False\n",
    "            if optimized:\n",
    "                break\n",
    "                \n",
    "    def predict(self, data):\n",
    "        distances = [np.linalg.norm(data - self.centroids[centroid]) for centroid in self.centroids]\n",
    "        classification = distances.index(min(distances))\n",
    "        return classification\n",
    "clf = K_Means()\n",
    "clf.fit(X)\n",
    "colors = 10*[\"g\", \"r\", \"c\", \"b\", \"k\", \"o\"]\n",
    "for centroid in clf.centroids: #Showing centroids\n",
    "    plt.scatter(clf.centroids[centroid][0], clf.centroids[centroid][1], marker=\"o\", color=\"k\", s=150, linewidth=5)\n",
    "\n",
    "for classification in clf.classifications: #Showing the features\n",
    "    color = colors[classification]\n",
    "    for featureset in clf.classifications[classification]:\n",
    "        plt.scatter(featureset[0], featureset[1], marker=\"x\", color=color, s=150, linewidths=5)\n",
    "\n",
    "        \n",
    "unknowns = np.array([[1,3],[8,9],[0,3],[5,4], [6,4]])\n",
    "for unknown in unknowns:\n",
    "    classification = clf.predict(unknown)\n",
    "    plt.scatter(unknown[0], unknown[1], marker='*', color = colors[classification], s=150, linewidths=5)\n",
    "plt.show()"
   ]
  },
  {
   "cell_type": "code",
   "execution_count": null,
   "id": "e0a66316",
   "metadata": {},
   "outputs": [],
   "source": []
  }
 ],
 "metadata": {
  "kernelspec": {
   "display_name": "Python 3 (ipykernel)",
   "language": "python",
   "name": "python3"
  },
  "language_info": {
   "codemirror_mode": {
    "name": "ipython",
    "version": 3
   },
   "file_extension": ".py",
   "mimetype": "text/x-python",
   "name": "python",
   "nbconvert_exporter": "python",
   "pygments_lexer": "ipython3",
   "version": "3.9.13"
  }
 },
 "nbformat": 4,
 "nbformat_minor": 5
}
