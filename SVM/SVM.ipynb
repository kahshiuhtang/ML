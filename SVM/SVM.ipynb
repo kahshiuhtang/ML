{
 "cells": [
  {
   "cell_type": "markdown",
   "id": "8f7b0731",
   "metadata": {},
   "source": [
    "# Support Vector Machine\n",
    "### One of the most popular ML algorithms\n",
    "### Grew in popularity in the 90's\n",
    "### Works in Vector-Space\n",
    "### Binary Classifier that seperates into two groups (positive and negative)\n",
    "### Works to find best seperating line/hyperplane between two groups\n",
    "* Plane depends on how many classes you are seperating into\n",
    "* Seperating plane's bisector has the greatest distance between the nearest points\n",
    "    * If you were to draw a point from this plane to every point, you would get the greatest possible distance\n",
    "    * Don't really want groups that are not near each other"
   ]
  },
  {
   "cell_type": "code",
   "execution_count": 15,
   "id": "01f8b999",
   "metadata": {
    "scrolled": true
   },
   "outputs": [],
   "source": [
    "import numpy as np\n",
    "from sklearn import preprocessing, model_selection, neighbors\n",
    "import pandas as pd\n",
    "\n",
    "df = pd.read_csv('breast-cancer-wisconsin.txt')\n",
    "df.replace('?', -99999, inplace=True)\n",
    "df.drop(['id'], axis=1, inplace = True)"
   ]
  },
  {
   "cell_type": "code",
   "execution_count": 18,
   "id": "c6cb0d0f",
   "metadata": {
    "scrolled": true
   },
   "outputs": [],
   "source": [
    "X = np.array(df.drop(['class'], axis=1))\n",
    "y = np.array(df['class'])\n",
    "x_train, x_test, y_train, y_test = model_selection.train_test_split(X, y, test_size=0.2)"
   ]
  },
  {
   "cell_type": "code",
   "execution_count": 19,
   "id": "ba049e63",
   "metadata": {},
   "outputs": [
    {
     "name": "stdout",
     "output_type": "stream",
     "text": [
      "0.7\n"
     ]
    }
   ],
   "source": [
    "from sklearn import svm\n",
    "clf = svm.SVC()\n",
    "clf.fit(x_train, y_train)\n",
    "acc = clf.score(x_test, y_test)\n",
    "print(acc)"
   ]
  },
  {
   "cell_type": "markdown",
   "id": "3aac8bbd",
   "metadata": {},
   "source": [
    "#### Notes\n",
    "* Vector has magnitude and direction Ex: [x,y] on a point\n",
    "    * Can continue to add out \n",
    "* Magnitude is the same as norm or length of a vector\n",
    "* Dot Product: Sum together the multiplicative value of same indexed values in two vectors\n",
    "* SVM\n",
    "    * Dot two vectors and and a bias -> check if this is greater or less than 0\n",
    "        * If equal, you are on the decision boundary\n",
    "    * One vector is the perpendicular vector to the plane and the other is the point we are trying to classify\n",
    "    * Values in vector are features U * V + b\n",
    "        * In hyperplane, b is similar to y-intercept\n",
    "        * Also want to increase this, as it would move the hyperplane up\n",
    "    * + Class X_i * w + b = 1 (Support Vector Equation)\n",
    "    * - Class X_i * w + b = -1\n",
    "    * X * w + b = 0 is the decision boundary\n",
    "    * Have to multiply both sides y_i where w_i is a either 1 or -1, each class\n",
    "    * We want to maximize the width between the best fit line of each class\n",
    "        * Width = (X_+ - X_-) * Magnitude\n",
    "        * Comes down to be 2/Magnitude(w, want to maximize this so minimize the magnitude\n",
    "        * NEED TO LEARN THE CALCULATION\n",
    "        * Might not be feasible with a large datasets\n",
    "            * Could work with mini batches\n",
    "        * However, it is easy to calculate/classify once you have trained \n",
    "    * No formula for solution as it is an optimization problem (no one right answer)\n",
    "    * Convex Problem:\n",
    "        * Imagine a bowl and you are trying to find where the botom point is\n",
    "        * Eventually, a rolling ball will settle as this point\n",
    "            * Find a global minimum, not a local minimum\n",
    "        * Guess and step down (have to check all pos/neg variations of the vector you are guessing)\n",
    "            * Because magnitude doesn't care for pos/neg, but dot product does\n",
    "            * Decrease the step once you\n",
    "    * Convex Optimization (Many Python Modules Exist CVXOpt)"
   ]
  },
  {
   "cell_type": "code",
   "execution_count": 20,
   "id": "70405fdb",
   "metadata": {},
   "outputs": [],
   "source": [
    "import matplotlib.pyplot as plt\n",
    "from matplotlib import style\n",
    "import numpy as np\n",
    "style.use('ggplot')"
   ]
  },
  {
   "cell_type": "code",
   "execution_count": 47,
   "id": "415a0f82",
   "metadata": {},
   "outputs": [],
   "source": [
    "data_dict = {1:np.array([[1,7], [2,8], [3,7]]), -1: np.array([[5,1], [6,-1], [7,3]])} #Test\n",
    "\n",
    "class Support_Vector_Machine:\n",
    "    def __init__(self, visualization = True):\n",
    "        self.visualization = visualization\n",
    "        self.colors = {1: 'r', -1:'b'}\n",
    "        if self.visualization:\n",
    "            self.fig = plt.figure()\n",
    "            self.ax = self.fig.add_subplot(1,1,1)\n",
    "    \n",
    "    def fit(self, data):\n",
    "        self.data = data\n",
    "        opt_dict = {} #{||w||: [w, b]}\n",
    "        transforms = [[1,1], [-1,1],[-1,-1],[1,-1]] #Finding the best form of each magnitude\n",
    "        all_data = []\n",
    "        for yi in self.data: #Seperates the classes\n",
    "            for featureset in self.data[yi]: #Seperates the pairs of points in each class\n",
    "                for feature in featureset: #Seperates out the points in each feature\n",
    "                    all_data.append(feature)\n",
    "        self.max_feature_value = max(all_data)\n",
    "        self.min_feature_value = min(all_data)\n",
    "        all_data = None\n",
    "        \n",
    "        # SV yi(xi.w+b) = 1\n",
    "        # Want to set a specific pointof how far off 1 you are\n",
    "        step_sizes = [self.max_feature_value*0.1,\n",
    "                      self.max_feature_value*0.01,\n",
    "                      self.max_feature_value*0.001] #Used for steps, expense increases with lower percent\n",
    "        # Not as valuable to get b to be accurate, expensive operation\n",
    "        b_range_multiple = 5\n",
    "        \n",
    "        b_multiple = 5 #Should do the same thing with the w and find the max, opposite\n",
    "        \n",
    "        latest_optimum = self.max_feature_value*10 #Cut corner\n",
    "        \n",
    "        for step in step_sizes:# Run once per\n",
    "            w = np.array([latest_optimum, latest_optimum])\n",
    "            optimized = False # We can do this because we know it is convex\n",
    "            while not optimized:\n",
    "                for b in np.arange(-1*self.max_feature_value*b_range_multiple, self.max_feature_value*b_range_multiple, step*b_multiple):\n",
    "                    for transformation in transforms:\n",
    "                        w_t = w*transformation\n",
    "                        found_option = True\n",
    "                        for i in self.data: #Weakest link in SVM, runs on all data, time consuming\n",
    "                            for xi in self.data[i]:\n",
    "                                yi=i\n",
    "                                if not yi*(np.dot(w_t, xi) + b) >= 1: #If inequality is not upheld, throw out data\n",
    "                                    found_option = False\n",
    "                                    break\n",
    "                        if found_option: #If its good, just let it be\n",
    "                            opt_dict[np.linalg.norm(w_t)] = [w_t, b]\n",
    "                if w[0] < 0:\n",
    "                    optimized = True\n",
    "                else:\n",
    "                    w = w - step\n",
    "            \n",
    "            norms = sorted([n for n in opt_dict]) #Sort out magnitudes and take the smallest 1\n",
    "            opt_choice = opt_dict[norms[0]]\n",
    "            \n",
    "            self.w = opt_choice[0]\n",
    "            self.b = opt_choice[1]\n",
    "            latest_optimum = opt_choice[0][0]+ step*2\n",
    "    \n",
    "    def predict(self, features):\n",
    "        \"\"\"Is the sign of x.w+ b\"\"\"\n",
    "        clf = np.sign(np.dot(np.array(features), self.w)+self.b)\n",
    "        if clf != 0 and self.visualization:\n",
    "            self.ax.scatter(features[0], features[1], s=200, marker='*', c=self.colors[clf])\n",
    "        return clf\n",
    "    \n",
    "    def visualize(self):\n",
    "        # Plots the points\n",
    "        [[self.ax.scatter(x[0], x[1], s=100, color=self.colors[i])for x in data_dict[i]] for i in data_dict]\n",
    "        \n",
    "        #Find the \"y-value\" of an inputted point\n",
    "        def hyperplane(x, w, b, v):\n",
    "            \"\"\"Find when v=x.w+b when v = 1, -1, 0\"\"\"\n",
    "            return (-w[0]*x-b+v)/w[1]\n",
    "        \n",
    "        #Choosing two \n",
    "        datarange = (self.min_feature_value*0.9, self.max_feature_value*1.1)\n",
    "        hyp_x_min = datarange[0]\n",
    "        hyp_x_max = datarange[1]\n",
    "        \n",
    "        #Getting two points for every support vector so we can graph them\n",
    "        psv1 = hyperplane(hyp_x_min, self.w, self.b, 1)\n",
    "        psv2 = hyperplane(hyp_x_max, self.w, self.b, 1)\n",
    "        self.ax.plot([hyp_x_min, hyp_x_max], [psv1, psv2], 'k')\n",
    "        \n",
    "        nsv1 = hyperplane(hyp_x_min, self.w, self.b, -1)\n",
    "        nsv2 = hyperplane(hyp_x_max, self.w, self.b, -1)\n",
    "        self.ax.plot([hyp_x_min, hyp_x_max], [nsv1, nsv2], 'k')\n",
    "        \n",
    "        db1 = hyperplane(hyp_x_min, self.w, self.b, 0)\n",
    "        db2 = hyperplane(hyp_x_max, self.w, self.b, 0)\n",
    "        self.ax.plot([hyp_x_min, hyp_x_max], [db1, db2], 'y--')\n",
    "        \n",
    "        plt.show()\n",
    "        \n",
    "        "
   ]
  },
  {
   "cell_type": "code",
   "execution_count": 54,
   "id": "c5d64e63",
   "metadata": {
    "scrolled": true
   },
   "outputs": [
    {
     "data": {
      "image/png": "[encoded data removed]",
      "text/plain": [
       "<Figure size 640x480 with 1 Axes>"
      ]
     },
     "metadata": {},
     "output_type": "display_data"
    }
   ],
   "source": [
    "svm = Support_Vector_Machine()\n",
    "svm.fit(data=data_dict)\n",
    "svm.visualize() #Similar to a road"
   ]
  },
  {
   "cell_type": "code",
   "execution_count": 55,
   "id": "7550b20a",
   "metadata": {
    "scrolled": true
   },
   "outputs": [
    {
     "name": "stdout",
     "output_type": "stream",
     "text": [
      "1.0\n",
      "1.0\n",
      "1.0\n",
      "1.0\n"
     ]
    }
   ],
   "source": [
    "predict_us = [[0,10],[1,3],[3,4],[3,5]]\n",
    "for x in predict_us:\n",
    "    print(svm.predict(x))\n",
    "svm.visualize()"
   ]
  },
  {
   "cell_type": "markdown",
   "id": "117f602d",
   "metadata": {},
   "source": [
    "* What if your data is not linearly seperable?\n",
    "* You can add a dimension Ex. for x1 and x2, x3 = x1 * x2\n",
    "* However, this is already not very resource effective\n",
    "    * Would maybe need to get a crazy amount of dimensions\n",
    "* Kernels: can be used to augment SVM by working with the data and making it linearly seperable\n",
    "    * Uses dot/inner product because this will produce a scalar product\n",
    "    * Trying to get to new dimensional space\n",
    "    * Sometimes represented as phi"
   ]
  }
 ],
 "metadata": {
  "kernelspec": {
   "display_name": "Python 3 (ipykernel)",
   "language": "python",
   "name": "python3"
  },
  "language_info": {
   "codemirror_mode": {
    "name": "ipython",
    "version": 3
   },
   "file_extension": ".py",
   "mimetype": "text/x-python",
   "name": "python",
   "nbconvert_exporter": "python",
   "pygments_lexer": "ipython3",
   "version": "3.9.13"
  }
 },
 "nbformat": 4,
 "nbformat_minor": 5
}
