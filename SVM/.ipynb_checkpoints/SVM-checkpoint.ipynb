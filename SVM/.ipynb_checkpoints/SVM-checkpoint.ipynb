{
 "cells": [
  {
   "cell_type": "markdown",
   "id": "8f7b0731",
   "metadata": {},
   "source": [
    "# Support Vector Machine\n",
    "### One of the most popular ML algorithms\n",
    "### Grew in popularity in the 90's\n",
    "### Works in Vector-Space\n",
    "### Binary Classifier that seperates into two groups (positive and negative)\n",
    "### Works to find best seperating line/hyperplane between two groups\n",
    "* Plane depends on how many classes you are seperating into\n",
    "* Seperating plane's bisector has the greatest distance between the nearest points\n",
    "    * If you were to draw a point from this plane to every point, you would get the greatest possible distance\n",
    "    * Don't really want groups that are not near each other"
   ]
  },
  {
   "cell_type": "code",
   "execution_count": 15,
   "id": "01f8b999",
   "metadata": {
    "scrolled": true
   },
   "outputs": [],
   "source": [
    "import numpy as np\n",
    "from sklearn import preprocessing, model_selection, neighbors\n",
    "import pandas as pd\n",
    "\n",
    "df = pd.read_csv('breast-cancer-wisconsin.txt')\n",
    "df.replace('?', -99999, inplace=True)\n",
    "df.drop(['id'], axis=1, inplace = True)"
   ]
  },
  {
   "cell_type": "code",
   "execution_count": 18,
   "id": "c6cb0d0f",
   "metadata": {
    "scrolled": true
   },
   "outputs": [],
   "source": [
    "X = np.array(df.drop(['class'], axis=1))\n",
    "y = np.array(df['class'])\n",
    "x_train, x_test, y_train, y_test = model_selection.train_test_split(X, y, test_size=0.2)"
   ]
  },
  {
   "cell_type": "code",
   "execution_count": 19,
   "id": "ba049e63",
   "metadata": {},
   "outputs": [
    {
     "name": "stdout",
     "output_type": "stream",
     "text": [
      "0.7\n"
     ]
    }
   ],
   "source": [
    "from sklearn import svm\n",
    "clf = svm.SVC()\n",
    "clf.fit(x_train, y_train)\n",
    "acc = clf.score(x_test, y_test)\n",
    "print(acc)"
   ]
  },
  {
   "cell_type": "markdown",
   "id": "3aac8bbd",
   "metadata": {},
   "source": [
    "#### Notes\n",
    "* Vector has magnitude and direction Ex: [x,y] on a point\n",
    "    * Can continue to add out \n",
    "* Magnitude is the same as norm or length of a vector\n",
    "* Dot Product: Sum together the multiplicative value of same indexed values in two vectors\n",
    "* SVM\n",
    "    * Dot two vectors and and a bias -> check if this is greater or less than 0\n",
    "        * If equal, you are on the decision boundary\n",
    "    * One vector is the perpendicular vector to the plane and the other is the point we are trying to classify\n",
    "    * Values in vector are features U * V + b\n",
    "        * In hyperplane, b is similar to y-intercept\n",
    "        * Also want to increase this, as it would move the hyperplane up\n",
    "    * + Class X_i * w + b = 1 (Support Vector Equation)\n",
    "    * - Class X_i * w + b = -1\n",
    "    * X * w + b = 0 is the decision boundary\n",
    "    * Have to multiply both sides y_i where w_i is a either 1 or -1, each class\n",
    "    * We want to maximize the width between the best fit line of each class\n",
    "        * Width = (X_+ - X_-) * Magnitude\n",
    "        * Comes down to be 2/Magnitude(w, want to maximize this so minimize the magnitude\n",
    "        * NEED TO LEARN THE CALCULATION\n",
    "        * Might not be feasible with a large datasets\n",
    "            * Could work with mini batches\n",
    "        * However, it is easy to calculate/classify once you have trained \n",
    "    * No formula for solution as it is an optimization problem (no one right answer)\n",
    "    * Convex Problem:\n",
    "        * Imagine a bowl and you are trying to find where the botom point is\n",
    "        * Eventually, a rolling ball will settle as this point\n",
    "            * Find a global minimum, not a local minimum\n",
    "        * Guess and step down (have to check all pos/neg variations of the vector you are guessing)\n",
    "            * Because magnitude doesn't care for pos/neg, but dot product does\n",
    "            * Decrease the step once you\n",
    "    * Convex Optimization (Many Python Modules Exist CVXOpt)"
   ]
  },
  {
   "cell_type": "code",
   "execution_count": 20,
   "id": "97b4570e",
   "metadata": {},
   "outputs": [],
   "source": [
    "import matplotlib.pyplot as plt\n",
    "from matplotlib import style\n",
    "import numpy as np\n",
    "style.use('ggplot')"
   ]
  },
  {
   "cell_type": "code",
   "execution_count": null,
   "id": "5e03ba11",
   "metadata": {},
   "outputs": [],
   "source": [
    "data_dict = {-1:np.array([[1,7], [2,8], [3,7]]), 1: np.array([[5,1], [6,-1], [7,3]])}"
   ]
  }
 ],
 "metadata": {
  "kernelspec": {
   "display_name": "Python 3 (ipykernel)",
   "language": "python",
   "name": "python3"
  },
  "language_info": {
   "codemirror_mode": {
    "name": "ipython",
    "version": 3
   },
   "file_extension": ".py",
   "mimetype": "text/x-python",
   "name": "python",
   "nbconvert_exporter": "python",
   "pygments_lexer": "ipython3",
   "version": "3.9.13"
  }
 },
 "nbformat": 4,
 "nbformat_minor": 5
}
