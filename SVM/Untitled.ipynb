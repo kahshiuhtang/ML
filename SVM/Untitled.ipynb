{
 "cells": [
  {
   "cell_type": "markdown",
   "id": "cffc583a",
   "metadata": {},
   "source": [
    "# Support Vector Machine\n",
    "### One of the most popular ML algorithms\n",
    "### Grew in popularity in the 90's\n",
    "### Works in Vector-Space\n",
    "### Binary Classifier that seperates into two groups (positive and negative)\n",
    "### Works to find best seperating line/plane between two groups\n",
    "* Plane depends on how many classes you are seperating into\n",
    "* Seperating plane's bisector has the greatest distance between the nearest points\n",
    "    * If you were to draw a point from this plane to every point, you would get the greatest possible distance\n",
    "    * Don't really want groups that are not near each other"
   ]
  },
  {
   "cell_type": "code",
   "execution_count": null,
   "id": "8f701a3c",
   "metadata": {},
   "outputs": [],
   "source": [
    "import numpy as np\n"
   ]
  }
 ],
 "metadata": {
  "kernelspec": {
   "display_name": "Python 3 (ipykernel)",
   "language": "python",
   "name": "python3"
  },
  "language_info": {
   "codemirror_mode": {
    "name": "ipython",
    "version": 3
   },
   "file_extension": ".py",
   "mimetype": "text/x-python",
   "name": "python",
   "nbconvert_exporter": "python",
   "pygments_lexer": "ipython3",
   "version": "3.9.13"
  }
 },
 "nbformat": 4,
 "nbformat_minor": 5
}
